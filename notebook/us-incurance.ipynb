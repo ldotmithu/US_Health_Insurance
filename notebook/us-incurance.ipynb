{
 "cells": [
  {
   "cell_type": "code",
   "execution_count": 1,
   "metadata": {
    "execution": {
     "iopub.execute_input": "2025-01-28T09:16:57.742931Z",
     "iopub.status.busy": "2025-01-28T09:16:57.742541Z",
     "iopub.status.idle": "2025-01-28T09:16:58.453203Z",
     "shell.execute_reply": "2025-01-28T09:16:58.452238Z",
     "shell.execute_reply.started": "2025-01-28T09:16:57.742905Z"
    },
    "trusted": true
   },
   "outputs": [],
   "source": [
    "import pandas as pd \n",
    "import numpy as np \n",
    "import seaborn as sns \n",
    "from matplotlib import pyplot as plt "
   ]
  },
  {
   "cell_type": "code",
   "execution_count": 3,
   "metadata": {
    "execution": {
     "iopub.execute_input": "2025-01-28T09:17:35.294063Z",
     "iopub.status.busy": "2025-01-28T09:17:35.293629Z",
     "iopub.status.idle": "2025-01-28T09:17:35.332196Z",
     "shell.execute_reply": "2025-01-28T09:17:35.331475Z",
     "shell.execute_reply.started": "2025-01-28T09:17:35.294039Z"
    },
    "trusted": true
   },
   "outputs": [
    {
     "data": {
      "text/html": [
       "<div>\n",
       "<style scoped>\n",
       "    .dataframe tbody tr th:only-of-type {\n",
       "        vertical-align: middle;\n",
       "    }\n",
       "\n",
       "    .dataframe tbody tr th {\n",
       "        vertical-align: top;\n",
       "    }\n",
       "\n",
       "    .dataframe thead th {\n",
       "        text-align: right;\n",
       "    }\n",
       "</style>\n",
       "<table border=\"1\" class=\"dataframe\">\n",
       "  <thead>\n",
       "    <tr style=\"text-align: right;\">\n",
       "      <th></th>\n",
       "      <th>age</th>\n",
       "      <th>sex</th>\n",
       "      <th>bmi</th>\n",
       "      <th>children</th>\n",
       "      <th>smoker</th>\n",
       "      <th>region</th>\n",
       "      <th>charges</th>\n",
       "    </tr>\n",
       "  </thead>\n",
       "  <tbody>\n",
       "    <tr>\n",
       "      <th>0</th>\n",
       "      <td>19</td>\n",
       "      <td>female</td>\n",
       "      <td>27.900</td>\n",
       "      <td>0</td>\n",
       "      <td>yes</td>\n",
       "      <td>southwest</td>\n",
       "      <td>16884.92400</td>\n",
       "    </tr>\n",
       "    <tr>\n",
       "      <th>1</th>\n",
       "      <td>18</td>\n",
       "      <td>male</td>\n",
       "      <td>33.770</td>\n",
       "      <td>1</td>\n",
       "      <td>no</td>\n",
       "      <td>southeast</td>\n",
       "      <td>1725.55230</td>\n",
       "    </tr>\n",
       "    <tr>\n",
       "      <th>2</th>\n",
       "      <td>28</td>\n",
       "      <td>male</td>\n",
       "      <td>33.000</td>\n",
       "      <td>3</td>\n",
       "      <td>no</td>\n",
       "      <td>southeast</td>\n",
       "      <td>4449.46200</td>\n",
       "    </tr>\n",
       "    <tr>\n",
       "      <th>3</th>\n",
       "      <td>33</td>\n",
       "      <td>male</td>\n",
       "      <td>22.705</td>\n",
       "      <td>0</td>\n",
       "      <td>no</td>\n",
       "      <td>northwest</td>\n",
       "      <td>21984.47061</td>\n",
       "    </tr>\n",
       "    <tr>\n",
       "      <th>4</th>\n",
       "      <td>32</td>\n",
       "      <td>male</td>\n",
       "      <td>28.880</td>\n",
       "      <td>0</td>\n",
       "      <td>no</td>\n",
       "      <td>northwest</td>\n",
       "      <td>3866.85520</td>\n",
       "    </tr>\n",
       "  </tbody>\n",
       "</table>\n",
       "</div>"
      ],
      "text/plain": [
       "   age     sex     bmi  children smoker     region      charges\n",
       "0   19  female  27.900         0    yes  southwest  16884.92400\n",
       "1   18    male  33.770         1     no  southeast   1725.55230\n",
       "2   28    male  33.000         3     no  southeast   4449.46200\n",
       "3   33    male  22.705         0     no  northwest  21984.47061\n",
       "4   32    male  28.880         0     no  northwest   3866.85520"
      ]
     },
     "execution_count": 3,
     "metadata": {},
     "output_type": "execute_result"
    }
   ],
   "source": [
    "data = pd.read_csv('insurance.csv')\n",
    "data.head()"
   ]
  },
  {
   "cell_type": "code",
   "execution_count": 4,
   "metadata": {
    "execution": {
     "iopub.execute_input": "2025-01-28T09:17:55.097871Z",
     "iopub.status.busy": "2025-01-28T09:17:55.097545Z",
     "iopub.status.idle": "2025-01-28T09:17:55.103221Z",
     "shell.execute_reply": "2025-01-28T09:17:55.102313Z",
     "shell.execute_reply.started": "2025-01-28T09:17:55.097849Z"
    },
    "trusted": true
   },
   "outputs": [
    {
     "data": {
      "text/plain": [
       "(1338, 7)"
      ]
     },
     "execution_count": 4,
     "metadata": {},
     "output_type": "execute_result"
    }
   ],
   "source": [
    "data.shape"
   ]
  },
  {
   "cell_type": "code",
   "execution_count": 5,
   "metadata": {
    "execution": {
     "iopub.execute_input": "2025-01-28T09:18:10.253539Z",
     "iopub.status.busy": "2025-01-28T09:18:10.253227Z",
     "iopub.status.idle": "2025-01-28T09:18:10.262347Z",
     "shell.execute_reply": "2025-01-28T09:18:10.261575Z",
     "shell.execute_reply.started": "2025-01-28T09:18:10.253517Z"
    },
    "trusted": true
   },
   "outputs": [
    {
     "data": {
      "text/plain": [
       "age         0\n",
       "sex         0\n",
       "bmi         0\n",
       "children    0\n",
       "smoker      0\n",
       "region      0\n",
       "charges     0\n",
       "dtype: int64"
      ]
     },
     "execution_count": 5,
     "metadata": {},
     "output_type": "execute_result"
    }
   ],
   "source": [
    "data.isnull().sum()"
   ]
  },
  {
   "cell_type": "code",
   "execution_count": 6,
   "metadata": {
    "execution": {
     "iopub.execute_input": "2025-01-28T09:18:36.388687Z",
     "iopub.status.busy": "2025-01-28T09:18:36.388328Z",
     "iopub.status.idle": "2025-01-28T09:18:36.395734Z",
     "shell.execute_reply": "2025-01-28T09:18:36.394780Z",
     "shell.execute_reply.started": "2025-01-28T09:18:36.388657Z"
    },
    "trusted": true
   },
   "outputs": [
    {
     "data": {
      "text/plain": [
       "1"
      ]
     },
     "execution_count": 6,
     "metadata": {},
     "output_type": "execute_result"
    }
   ],
   "source": [
    "data.duplicated().sum()"
   ]
  },
  {
   "cell_type": "code",
   "execution_count": 7,
   "metadata": {
    "execution": {
     "iopub.execute_input": "2025-01-28T09:19:54.138199Z",
     "iopub.status.busy": "2025-01-28T09:19:54.137921Z",
     "iopub.status.idle": "2025-01-28T09:19:54.146665Z",
     "shell.execute_reply": "2025-01-28T09:19:54.145761Z",
     "shell.execute_reply.started": "2025-01-28T09:19:54.138179Z"
    },
    "trusted": true
   },
   "outputs": [],
   "source": [
    "data.drop_duplicates(inplace=True)"
   ]
  },
  {
   "cell_type": "code",
   "execution_count": 8,
   "metadata": {
    "execution": {
     "iopub.execute_input": "2025-01-28T09:20:04.807377Z",
     "iopub.status.busy": "2025-01-28T09:20:04.807068Z",
     "iopub.status.idle": "2025-01-28T09:20:04.812369Z",
     "shell.execute_reply": "2025-01-28T09:20:04.811483Z",
     "shell.execute_reply.started": "2025-01-28T09:20:04.807354Z"
    },
    "trusted": true
   },
   "outputs": [
    {
     "data": {
      "text/plain": [
       "(1337, 7)"
      ]
     },
     "execution_count": 8,
     "metadata": {},
     "output_type": "execute_result"
    }
   ],
   "source": [
    "data.shape"
   ]
  },
  {
   "cell_type": "code",
   "execution_count": 9,
   "metadata": {
    "execution": {
     "iopub.execute_input": "2025-01-28T09:20:15.575526Z",
     "iopub.status.busy": "2025-01-28T09:20:15.575203Z",
     "iopub.status.idle": "2025-01-28T09:20:15.580442Z",
     "shell.execute_reply": "2025-01-28T09:20:15.579788Z",
     "shell.execute_reply.started": "2025-01-28T09:20:15.575499Z"
    },
    "trusted": true
   },
   "outputs": [
    {
     "data": {
      "text/plain": [
       "Index(['age', 'sex', 'bmi', 'children', 'smoker', 'region', 'charges'], dtype='object')"
      ]
     },
     "execution_count": 9,
     "metadata": {},
     "output_type": "execute_result"
    }
   ],
   "source": [
    "data.columns"
   ]
  },
  {
   "cell_type": "code",
   "execution_count": 10,
   "metadata": {
    "execution": {
     "iopub.execute_input": "2025-01-28T09:20:30.827361Z",
     "iopub.status.busy": "2025-01-28T09:20:30.827055Z",
     "iopub.status.idle": "2025-01-28T09:20:30.837255Z",
     "shell.execute_reply": "2025-01-28T09:20:30.836431Z",
     "shell.execute_reply.started": "2025-01-28T09:20:30.827335Z"
    },
    "trusted": true
   },
   "outputs": [
    {
     "name": "stdout",
     "output_type": "stream",
     "text": [
      "<class 'pandas.core.frame.DataFrame'>\n",
      "Index: 1337 entries, 0 to 1337\n",
      "Data columns (total 7 columns):\n",
      " #   Column    Non-Null Count  Dtype  \n",
      "---  ------    --------------  -----  \n",
      " 0   age       1337 non-null   int64  \n",
      " 1   sex       1337 non-null   object \n",
      " 2   bmi       1337 non-null   float64\n",
      " 3   children  1337 non-null   int64  \n",
      " 4   smoker    1337 non-null   object \n",
      " 5   region    1337 non-null   object \n",
      " 6   charges   1337 non-null   float64\n",
      "dtypes: float64(2), int64(2), object(3)\n",
      "memory usage: 83.6+ KB\n"
     ]
    }
   ],
   "source": [
    "data.info()"
   ]
  },
  {
   "cell_type": "code",
   "execution_count": 11,
   "metadata": {
    "execution": {
     "iopub.execute_input": "2025-01-28T09:21:15.308493Z",
     "iopub.status.busy": "2025-01-28T09:21:15.308170Z",
     "iopub.status.idle": "2025-01-28T09:21:15.327706Z",
     "shell.execute_reply": "2025-01-28T09:21:15.327029Z",
     "shell.execute_reply.started": "2025-01-28T09:21:15.308468Z"
    },
    "trusted": true
   },
   "outputs": [
    {
     "data": {
      "text/html": [
       "<div>\n",
       "<style scoped>\n",
       "    .dataframe tbody tr th:only-of-type {\n",
       "        vertical-align: middle;\n",
       "    }\n",
       "\n",
       "    .dataframe tbody tr th {\n",
       "        vertical-align: top;\n",
       "    }\n",
       "\n",
       "    .dataframe thead th {\n",
       "        text-align: right;\n",
       "    }\n",
       "</style>\n",
       "<table border=\"1\" class=\"dataframe\">\n",
       "  <thead>\n",
       "    <tr style=\"text-align: right;\">\n",
       "      <th></th>\n",
       "      <th>age</th>\n",
       "      <th>bmi</th>\n",
       "      <th>children</th>\n",
       "      <th>charges</th>\n",
       "    </tr>\n",
       "  </thead>\n",
       "  <tbody>\n",
       "    <tr>\n",
       "      <th>count</th>\n",
       "      <td>1337.000000</td>\n",
       "      <td>1337.000000</td>\n",
       "      <td>1337.000000</td>\n",
       "      <td>1337.000000</td>\n",
       "    </tr>\n",
       "    <tr>\n",
       "      <th>mean</th>\n",
       "      <td>39.222139</td>\n",
       "      <td>30.663452</td>\n",
       "      <td>1.095737</td>\n",
       "      <td>13279.121487</td>\n",
       "    </tr>\n",
       "    <tr>\n",
       "      <th>std</th>\n",
       "      <td>14.044333</td>\n",
       "      <td>6.100468</td>\n",
       "      <td>1.205571</td>\n",
       "      <td>12110.359656</td>\n",
       "    </tr>\n",
       "    <tr>\n",
       "      <th>min</th>\n",
       "      <td>18.000000</td>\n",
       "      <td>15.960000</td>\n",
       "      <td>0.000000</td>\n",
       "      <td>1121.873900</td>\n",
       "    </tr>\n",
       "    <tr>\n",
       "      <th>25%</th>\n",
       "      <td>27.000000</td>\n",
       "      <td>26.290000</td>\n",
       "      <td>0.000000</td>\n",
       "      <td>4746.344000</td>\n",
       "    </tr>\n",
       "    <tr>\n",
       "      <th>50%</th>\n",
       "      <td>39.000000</td>\n",
       "      <td>30.400000</td>\n",
       "      <td>1.000000</td>\n",
       "      <td>9386.161300</td>\n",
       "    </tr>\n",
       "    <tr>\n",
       "      <th>75%</th>\n",
       "      <td>51.000000</td>\n",
       "      <td>34.700000</td>\n",
       "      <td>2.000000</td>\n",
       "      <td>16657.717450</td>\n",
       "    </tr>\n",
       "    <tr>\n",
       "      <th>max</th>\n",
       "      <td>64.000000</td>\n",
       "      <td>53.130000</td>\n",
       "      <td>5.000000</td>\n",
       "      <td>63770.428010</td>\n",
       "    </tr>\n",
       "  </tbody>\n",
       "</table>\n",
       "</div>"
      ],
      "text/plain": [
       "               age          bmi     children       charges\n",
       "count  1337.000000  1337.000000  1337.000000   1337.000000\n",
       "mean     39.222139    30.663452     1.095737  13279.121487\n",
       "std      14.044333     6.100468     1.205571  12110.359656\n",
       "min      18.000000    15.960000     0.000000   1121.873900\n",
       "25%      27.000000    26.290000     0.000000   4746.344000\n",
       "50%      39.000000    30.400000     1.000000   9386.161300\n",
       "75%      51.000000    34.700000     2.000000  16657.717450\n",
       "max      64.000000    53.130000     5.000000  63770.428010"
      ]
     },
     "execution_count": 11,
     "metadata": {},
     "output_type": "execute_result"
    }
   ],
   "source": [
    "data.describe()"
   ]
  },
  {
   "cell_type": "code",
   "execution_count": 12,
   "metadata": {
    "execution": {
     "iopub.execute_input": "2025-01-28T09:22:35.757477Z",
     "iopub.status.busy": "2025-01-28T09:22:35.757146Z",
     "iopub.status.idle": "2025-01-28T09:22:35.761258Z",
     "shell.execute_reply": "2025-01-28T09:22:35.760354Z",
     "shell.execute_reply.started": "2025-01-28T09:22:35.757451Z"
    },
    "trusted": true
   },
   "outputs": [],
   "source": [
    "def outlier_detection(df,col):\n",
    "    sns.boxplot(df,x=col)\n",
    "    plt.show()"
   ]
  },
  {
   "cell_type": "code",
   "execution_count": 13,
   "metadata": {
    "execution": {
     "iopub.execute_input": "2025-01-28T09:22:47.113363Z",
     "iopub.status.busy": "2025-01-28T09:22:47.113049Z",
     "iopub.status.idle": "2025-01-28T09:22:47.118377Z",
     "shell.execute_reply": "2025-01-28T09:22:47.117622Z",
     "shell.execute_reply.started": "2025-01-28T09:22:47.113335Z"
    },
    "trusted": true
   },
   "outputs": [
    {
     "data": {
      "text/plain": [
       "Index(['age', 'sex', 'bmi', 'children', 'smoker', 'region', 'charges'], dtype='object')"
      ]
     },
     "execution_count": 13,
     "metadata": {},
     "output_type": "execute_result"
    }
   ],
   "source": [
    "data.columns"
   ]
  },
  {
   "cell_type": "code",
   "execution_count": 14,
   "metadata": {
    "execution": {
     "iopub.execute_input": "2025-01-28T09:23:11.998081Z",
     "iopub.status.busy": "2025-01-28T09:23:11.997755Z",
     "iopub.status.idle": "2025-01-28T09:23:12.099838Z",
     "shell.execute_reply": "2025-01-28T09:23:12.099038Z",
     "shell.execute_reply.started": "2025-01-28T09:23:11.998054Z"
    },
    "trusted": true
   },
   "outputs": [
    {
     "data": {
      "image/png": "[encoded data removed]",
      "text/plain": [
       "<Figure size 640x480 with 1 Axes>"
      ]
     },
     "metadata": {},
     "output_type": "display_data"
    }
   ],
   "source": [
    "outlier_detection(data,'bmi')"
   ]
  },
  {
   "cell_type": "code",
   "execution_count": 15,
   "metadata": {
    "execution": {
     "iopub.execute_input": "2025-01-28T09:23:35.268130Z",
     "iopub.status.busy": "2025-01-28T09:23:35.267818Z",
     "iopub.status.idle": "2025-01-28T09:23:35.361694Z",
     "shell.execute_reply": "2025-01-28T09:23:35.360654Z",
     "shell.execute_reply.started": "2025-01-28T09:23:35.268094Z"
    },
    "trusted": true
   },
   "outputs": [
    {
     "data": {
      "image/png": "[encoded data removed]",
      "text/plain": [
       "<Figure size 640x480 with 1 Axes>"
      ]
     },
     "metadata": {},
     "output_type": "display_data"
    }
   ],
   "source": [
    "outlier_detection(data,'children')"
   ]
  },
  {
   "cell_type": "code",
   "execution_count": 16,
   "metadata": {
    "execution": {
     "iopub.execute_input": "2025-01-28T09:55:21.835039Z",
     "iopub.status.busy": "2025-01-28T09:55:21.834754Z",
     "iopub.status.idle": "2025-01-28T09:55:21.843305Z",
     "shell.execute_reply": "2025-01-28T09:55:21.842402Z",
     "shell.execute_reply.started": "2025-01-28T09:55:21.835019Z"
    },
    "trusted": true
   },
   "outputs": [
    {
     "name": "stdout",
     "output_type": "stream",
     "text": [
      "16.560399999999998 18.338800000000003\n"
     ]
    }
   ],
   "source": [
    "Q1 = np.percentile(data['bmi'],0.25)\n",
    "Q3 = np.percentile(data['bmi'],0.75)\n",
    "\n",
    "IQR = Q3-Q1\n",
    "\n",
    "lower = Q1-1.5*IQR\n",
    "upper = Q3+1.5*IQR\n",
    "\n",
    "print(lower,upper)\n",
    "\n",
    "data = data[(data['bmi'] > lower) & (data['bmi'] < upper)]"
   ]
  },
  {
   "cell_type": "code",
   "execution_count": 17,
   "metadata": {
    "execution": {
     "iopub.execute_input": "2025-01-28T09:55:30.900049Z",
     "iopub.status.busy": "2025-01-28T09:55:30.899728Z",
     "iopub.status.idle": "2025-01-28T09:55:30.912260Z",
     "shell.execute_reply": "2025-01-28T09:55:30.911359Z",
     "shell.execute_reply.started": "2025-01-28T09:55:30.900024Z"
    },
    "trusted": true
   },
   "outputs": [
    {
     "data": {
      "text/html": [
       "<div>\n",
       "<style scoped>\n",
       "    .dataframe tbody tr th:only-of-type {\n",
       "        vertical-align: middle;\n",
       "    }\n",
       "\n",
       "    .dataframe tbody tr th {\n",
       "        vertical-align: top;\n",
       "    }\n",
       "\n",
       "    .dataframe thead th {\n",
       "        text-align: right;\n",
       "    }\n",
       "</style>\n",
       "<table border=\"1\" class=\"dataframe\">\n",
       "  <thead>\n",
       "    <tr style=\"text-align: right;\">\n",
       "      <th></th>\n",
       "      <th>age</th>\n",
       "      <th>sex</th>\n",
       "      <th>bmi</th>\n",
       "      <th>children</th>\n",
       "      <th>smoker</th>\n",
       "      <th>region</th>\n",
       "      <th>charges</th>\n",
       "    </tr>\n",
       "  </thead>\n",
       "  <tbody>\n",
       "    <tr>\n",
       "      <th>28</th>\n",
       "      <td>23</td>\n",
       "      <td>male</td>\n",
       "      <td>17.385</td>\n",
       "      <td>1</td>\n",
       "      <td>no</td>\n",
       "      <td>northwest</td>\n",
       "      <td>2775.19215</td>\n",
       "    </tr>\n",
       "    <tr>\n",
       "      <th>128</th>\n",
       "      <td>32</td>\n",
       "      <td>female</td>\n",
       "      <td>17.765</td>\n",
       "      <td>2</td>\n",
       "      <td>yes</td>\n",
       "      <td>northwest</td>\n",
       "      <td>32734.18630</td>\n",
       "    </tr>\n",
       "    <tr>\n",
       "      <th>198</th>\n",
       "      <td>51</td>\n",
       "      <td>female</td>\n",
       "      <td>18.050</td>\n",
       "      <td>0</td>\n",
       "      <td>no</td>\n",
       "      <td>northwest</td>\n",
       "      <td>9644.25250</td>\n",
       "    </tr>\n",
       "    <tr>\n",
       "      <th>232</th>\n",
       "      <td>19</td>\n",
       "      <td>female</td>\n",
       "      <td>17.800</td>\n",
       "      <td>0</td>\n",
       "      <td>no</td>\n",
       "      <td>southwest</td>\n",
       "      <td>1727.78500</td>\n",
       "    </tr>\n",
       "    <tr>\n",
       "      <th>250</th>\n",
       "      <td>18</td>\n",
       "      <td>male</td>\n",
       "      <td>17.290</td>\n",
       "      <td>2</td>\n",
       "      <td>yes</td>\n",
       "      <td>northeast</td>\n",
       "      <td>12829.45510</td>\n",
       "    </tr>\n",
       "    <tr>\n",
       "      <th>380</th>\n",
       "      <td>27</td>\n",
       "      <td>female</td>\n",
       "      <td>17.955</td>\n",
       "      <td>2</td>\n",
       "      <td>yes</td>\n",
       "      <td>northeast</td>\n",
       "      <td>15006.57945</td>\n",
       "    </tr>\n",
       "    <tr>\n",
       "      <th>410</th>\n",
       "      <td>19</td>\n",
       "      <td>male</td>\n",
       "      <td>17.480</td>\n",
       "      <td>0</td>\n",
       "      <td>no</td>\n",
       "      <td>northwest</td>\n",
       "      <td>1621.34020</td>\n",
       "    </tr>\n",
       "    <tr>\n",
       "      <th>412</th>\n",
       "      <td>26</td>\n",
       "      <td>female</td>\n",
       "      <td>17.195</td>\n",
       "      <td>2</td>\n",
       "      <td>yes</td>\n",
       "      <td>northeast</td>\n",
       "      <td>14455.64405</td>\n",
       "    </tr>\n",
       "    <tr>\n",
       "      <th>428</th>\n",
       "      <td>21</td>\n",
       "      <td>female</td>\n",
       "      <td>16.815</td>\n",
       "      <td>1</td>\n",
       "      <td>no</td>\n",
       "      <td>northeast</td>\n",
       "      <td>3167.45585</td>\n",
       "    </tr>\n",
       "    <tr>\n",
       "      <th>680</th>\n",
       "      <td>21</td>\n",
       "      <td>female</td>\n",
       "      <td>17.400</td>\n",
       "      <td>1</td>\n",
       "      <td>no</td>\n",
       "      <td>southwest</td>\n",
       "      <td>2585.26900</td>\n",
       "    </tr>\n",
       "    <tr>\n",
       "      <th>821</th>\n",
       "      <td>26</td>\n",
       "      <td>male</td>\n",
       "      <td>17.670</td>\n",
       "      <td>0</td>\n",
       "      <td>no</td>\n",
       "      <td>northwest</td>\n",
       "      <td>2680.94930</td>\n",
       "    </tr>\n",
       "    <tr>\n",
       "      <th>950</th>\n",
       "      <td>57</td>\n",
       "      <td>male</td>\n",
       "      <td>18.335</td>\n",
       "      <td>0</td>\n",
       "      <td>no</td>\n",
       "      <td>northeast</td>\n",
       "      <td>11534.87265</td>\n",
       "    </tr>\n",
       "    <tr>\n",
       "      <th>1029</th>\n",
       "      <td>37</td>\n",
       "      <td>female</td>\n",
       "      <td>17.290</td>\n",
       "      <td>2</td>\n",
       "      <td>no</td>\n",
       "      <td>northeast</td>\n",
       "      <td>6877.98010</td>\n",
       "    </tr>\n",
       "    <tr>\n",
       "      <th>1074</th>\n",
       "      <td>60</td>\n",
       "      <td>female</td>\n",
       "      <td>18.335</td>\n",
       "      <td>0</td>\n",
       "      <td>no</td>\n",
       "      <td>northeast</td>\n",
       "      <td>13204.28565</td>\n",
       "    </tr>\n",
       "    <tr>\n",
       "      <th>1085</th>\n",
       "      <td>39</td>\n",
       "      <td>female</td>\n",
       "      <td>18.300</td>\n",
       "      <td>5</td>\n",
       "      <td>yes</td>\n",
       "      <td>southwest</td>\n",
       "      <td>19023.26000</td>\n",
       "    </tr>\n",
       "    <tr>\n",
       "      <th>1133</th>\n",
       "      <td>52</td>\n",
       "      <td>female</td>\n",
       "      <td>18.335</td>\n",
       "      <td>0</td>\n",
       "      <td>no</td>\n",
       "      <td>northwest</td>\n",
       "      <td>9991.03765</td>\n",
       "    </tr>\n",
       "    <tr>\n",
       "      <th>1205</th>\n",
       "      <td>35</td>\n",
       "      <td>male</td>\n",
       "      <td>17.860</td>\n",
       "      <td>1</td>\n",
       "      <td>no</td>\n",
       "      <td>northwest</td>\n",
       "      <td>5116.50040</td>\n",
       "    </tr>\n",
       "    <tr>\n",
       "      <th>1226</th>\n",
       "      <td>38</td>\n",
       "      <td>male</td>\n",
       "      <td>16.815</td>\n",
       "      <td>2</td>\n",
       "      <td>no</td>\n",
       "      <td>northeast</td>\n",
       "      <td>6640.54485</td>\n",
       "    </tr>\n",
       "    <tr>\n",
       "      <th>1286</th>\n",
       "      <td>28</td>\n",
       "      <td>female</td>\n",
       "      <td>17.290</td>\n",
       "      <td>0</td>\n",
       "      <td>no</td>\n",
       "      <td>northeast</td>\n",
       "      <td>3732.62510</td>\n",
       "    </tr>\n",
       "  </tbody>\n",
       "</table>\n",
       "</div>"
      ],
      "text/plain": [
       "      age     sex     bmi  children smoker     region      charges\n",
       "28     23    male  17.385         1     no  northwest   2775.19215\n",
       "128    32  female  17.765         2    yes  northwest  32734.18630\n",
       "198    51  female  18.050         0     no  northwest   9644.25250\n",
       "232    19  female  17.800         0     no  southwest   1727.78500\n",
       "250    18    male  17.290         2    yes  northeast  12829.45510\n",
       "380    27  female  17.955         2    yes  northeast  15006.57945\n",
       "410    19    male  17.480         0     no  northwest   1621.34020\n",
       "412    26  female  17.195         2    yes  northeast  14455.64405\n",
       "428    21  female  16.815         1     no  northeast   3167.45585\n",
       "680    21  female  17.400         1     no  southwest   2585.26900\n",
       "821    26    male  17.670         0     no  northwest   2680.94930\n",
       "950    57    male  18.335         0     no  northeast  11534.87265\n",
       "1029   37  female  17.290         2     no  northeast   6877.98010\n",
       "1074   60  female  18.335         0     no  northeast  13204.28565\n",
       "1085   39  female  18.300         5    yes  southwest  19023.26000\n",
       "1133   52  female  18.335         0     no  northwest   9991.03765\n",
       "1205   35    male  17.860         1     no  northwest   5116.50040\n",
       "1226   38    male  16.815         2     no  northeast   6640.54485\n",
       "1286   28  female  17.290         0     no  northeast   3732.62510"
      ]
     },
     "execution_count": 17,
     "metadata": {},
     "output_type": "execute_result"
    }
   ],
   "source": [
    "data.head(20)"
   ]
  },
  {
   "cell_type": "code",
   "execution_count": 18,
   "metadata": {
    "execution": {
     "iopub.execute_input": "2025-01-28T09:57:19.943316Z",
     "iopub.status.busy": "2025-01-28T09:57:19.942989Z",
     "iopub.status.idle": "2025-01-28T09:57:19.947154Z",
     "shell.execute_reply": "2025-01-28T09:57:19.946321Z",
     "shell.execute_reply.started": "2025-01-28T09:57:19.943292Z"
    },
    "trusted": true
   },
   "outputs": [],
   "source": [
    "num_col = ['age','bmi','children']"
   ]
  },
  {
   "cell_type": "code",
   "execution_count": 19,
   "metadata": {
    "execution": {
     "iopub.execute_input": "2025-01-28T09:58:32.196202Z",
     "iopub.status.busy": "2025-01-28T09:58:32.195909Z",
     "iopub.status.idle": "2025-01-28T09:58:32.202865Z",
     "shell.execute_reply": "2025-01-28T09:58:32.202137Z",
     "shell.execute_reply.started": "2025-01-28T09:58:32.196180Z"
    },
    "trusted": true
   },
   "outputs": [
    {
     "name": "stdout",
     "output_type": "stream",
     "text": [
      "column_name is age 0.804843521762562\n",
      "column_name is bmi -0.05420690789591716\n",
      "column_name is children 1.5331686389903394\n"
     ]
    }
   ],
   "source": [
    "for i in num_col:\n",
    "    print(f\"column_name is {i}\",data[i].skew())"
   ]
  },
  {
   "cell_type": "code",
   "execution_count": 20,
   "metadata": {
    "execution": {
     "iopub.execute_input": "2025-01-28T10:00:11.931331Z",
     "iopub.status.busy": "2025-01-28T10:00:11.931040Z",
     "iopub.status.idle": "2025-01-28T10:00:11.934967Z",
     "shell.execute_reply": "2025-01-28T10:00:11.934168Z",
     "shell.execute_reply.started": "2025-01-28T10:00:11.931308Z"
    },
    "trusted": true
   },
   "outputs": [],
   "source": [
    "def destribution_plot(data,col):\n",
    "    sns.kdeplot(data,x=col,fill=True)\n",
    "    plt.show()"
   ]
  },
  {
   "cell_type": "code",
   "execution_count": 21,
   "metadata": {
    "execution": {
     "iopub.execute_input": "2025-01-28T10:00:12.214163Z",
     "iopub.status.busy": "2025-01-28T10:00:12.213890Z",
     "iopub.status.idle": "2025-01-28T10:00:12.375757Z",
     "shell.execute_reply": "2025-01-28T10:00:12.374891Z",
     "shell.execute_reply.started": "2025-01-28T10:00:12.214144Z"
    },
    "trusted": true
   },
   "outputs": [
    {
     "data": {
      "image/png": "[encoded data removed]",
      "text/plain": [
       "<Figure size 640x480 with 1 Axes>"
      ]
     },
     "metadata": {},
     "output_type": "display_data"
    }
   ],
   "source": [
    "destribution_plot(data,'age')"
   ]
  },
  {
   "cell_type": "code",
   "execution_count": 22,
   "metadata": {
    "execution": {
     "iopub.execute_input": "2025-01-28T10:00:30.867726Z",
     "iopub.status.busy": "2025-01-28T10:00:30.867371Z",
     "iopub.status.idle": "2025-01-28T10:00:31.025278Z",
     "shell.execute_reply": "2025-01-28T10:00:31.024600Z",
     "shell.execute_reply.started": "2025-01-28T10:00:30.867698Z"
    },
    "trusted": true
   },
   "outputs": [
    {
     "data": {
      "image/png": "[encoded data removed]",
      "text/plain": [
       "<Figure size 640x480 with 1 Axes>"
      ]
     },
     "metadata": {},
     "output_type": "display_data"
    }
   ],
   "source": [
    "destribution_plot(data,'bmi')"
   ]
  },
  {
   "cell_type": "code",
   "execution_count": 23,
   "metadata": {
    "execution": {
     "iopub.execute_input": "2025-01-28T10:00:48.521370Z",
     "iopub.status.busy": "2025-01-28T10:00:48.521080Z",
     "iopub.status.idle": "2025-01-28T10:00:48.665343Z",
     "shell.execute_reply": "2025-01-28T10:00:48.664656Z",
     "shell.execute_reply.started": "2025-01-28T10:00:48.521348Z"
    },
    "trusted": true
   },
   "outputs": [
    {
     "data": {
      "image/png": "[encoded data removed]",
      "text/plain": [
       "<Figure size 640x480 with 1 Axes>"
      ]
     },
     "metadata": {},
     "output_type": "display_data"
    }
   ],
   "source": [
    "destribution_plot(data,'children')"
   ]
  },
  {
   "cell_type": "code",
   "execution_count": 24,
   "metadata": {
    "execution": {
     "iopub.execute_input": "2025-01-28T10:04:04.648926Z",
     "iopub.status.busy": "2025-01-28T10:04:04.648589Z",
     "iopub.status.idle": "2025-01-28T10:04:04.655942Z",
     "shell.execute_reply": "2025-01-28T10:04:04.655060Z",
     "shell.execute_reply.started": "2025-01-28T10:04:04.648901Z"
    },
    "trusted": true
   },
   "outputs": [
    {
     "data": {
      "text/plain": [
       "age         0\n",
       "sex         0\n",
       "bmi         0\n",
       "children    0\n",
       "smoker      0\n",
       "region      0\n",
       "charges     0\n",
       "dtype: int64"
      ]
     },
     "execution_count": 24,
     "metadata": {},
     "output_type": "execute_result"
    }
   ],
   "source": [
    "data.isnull().sum()"
   ]
  },
  {
   "cell_type": "code",
   "execution_count": 25,
   "metadata": {
    "execution": {
     "iopub.execute_input": "2025-01-28T10:08:40.994005Z",
     "iopub.status.busy": "2025-01-28T10:08:40.993701Z",
     "iopub.status.idle": "2025-01-28T10:08:40.997937Z",
     "shell.execute_reply": "2025-01-28T10:08:40.997032Z",
     "shell.execute_reply.started": "2025-01-28T10:08:40.993984Z"
    },
    "trusted": true
   },
   "outputs": [],
   "source": [
    "from sklearn.preprocessing import StandardScaler,OneHotEncoder\n",
    "from sklearn.compose import ColumnTransformer\n",
    "from sklearn.pipeline import Pipeline"
   ]
  },
  {
   "cell_type": "code",
   "execution_count": 26,
   "metadata": {
    "execution": {
     "iopub.execute_input": "2025-01-28T10:06:28.283495Z",
     "iopub.status.busy": "2025-01-28T10:06:28.283161Z",
     "iopub.status.idle": "2025-01-28T10:06:28.287063Z",
     "shell.execute_reply": "2025-01-28T10:06:28.286253Z",
     "shell.execute_reply.started": "2025-01-28T10:06:28.283467Z"
    },
    "trusted": true
   },
   "outputs": [],
   "source": [
    "one = OneHotEncoder()\n",
    "scler = StandardScaler()"
   ]
  },
  {
   "cell_type": "code",
   "execution_count": 27,
   "metadata": {
    "execution": {
     "iopub.execute_input": "2025-01-28T10:09:06.820153Z",
     "iopub.status.busy": "2025-01-28T10:09:06.819799Z",
     "iopub.status.idle": "2025-01-28T10:09:06.825424Z",
     "shell.execute_reply": "2025-01-28T10:09:06.824614Z",
     "shell.execute_reply.started": "2025-01-28T10:09:06.820128Z"
    },
    "trusted": true
   },
   "outputs": [
    {
     "data": {
      "text/plain": [
       "Index(['age', 'sex', 'bmi', 'children', 'smoker', 'region', 'charges'], dtype='object')"
      ]
     },
     "execution_count": 27,
     "metadata": {},
     "output_type": "execute_result"
    }
   ],
   "source": [
    "data.columns"
   ]
  },
  {
   "cell_type": "code",
   "execution_count": 28,
   "metadata": {
    "execution": {
     "iopub.execute_input": "2025-01-28T10:09:50.757811Z",
     "iopub.status.busy": "2025-01-28T10:09:50.757457Z",
     "iopub.status.idle": "2025-01-28T10:09:50.762912Z",
     "shell.execute_reply": "2025-01-28T10:09:50.762148Z",
     "shell.execute_reply.started": "2025-01-28T10:09:50.757782Z"
    },
    "trusted": true
   },
   "outputs": [
    {
     "data": {
      "text/plain": [
       "['age', 'bmi', 'children']"
      ]
     },
     "execution_count": 28,
     "metadata": {},
     "output_type": "execute_result"
    }
   ],
   "source": [
    "num_col"
   ]
  },
  {
   "cell_type": "code",
   "execution_count": 29,
   "metadata": {
    "execution": {
     "iopub.execute_input": "2025-01-28T10:12:16.663734Z",
     "iopub.status.busy": "2025-01-28T10:12:16.663394Z",
     "iopub.status.idle": "2025-01-28T10:12:16.667571Z",
     "shell.execute_reply": "2025-01-28T10:12:16.666852Z",
     "shell.execute_reply.started": "2025-01-28T10:12:16.663706Z"
    },
    "trusted": true
   },
   "outputs": [],
   "source": [
    "cat_col = ['sex','smoker','region']\n",
    "num_col =['age', 'bmi', 'children']\n",
    "\n",
    "perprocess = ColumnTransformer([\n",
    "('num_pipeline',StandardScaler(),num_col),\n",
    "('cat_pipeline',OneHotEncoder(),cat_col)\n",
    "])"
   ]
  },
  {
   "cell_type": "code",
   "execution_count": 30,
   "metadata": {
    "execution": {
     "iopub.execute_input": "2025-01-28T10:13:04.124785Z",
     "iopub.status.busy": "2025-01-28T10:13:04.124443Z",
     "iopub.status.idle": "2025-01-28T10:13:04.129881Z",
     "shell.execute_reply": "2025-01-28T10:13:04.129152Z",
     "shell.execute_reply.started": "2025-01-28T10:13:04.124761Z"
    },
    "trusted": true
   },
   "outputs": [
    {
     "data": {
      "text/plain": [
       "Index(['age', 'sex', 'bmi', 'children', 'smoker', 'region', 'charges'], dtype='object')"
      ]
     },
     "execution_count": 30,
     "metadata": {},
     "output_type": "execute_result"
    }
   ],
   "source": [
    "data.columns"
   ]
  },
  {
   "cell_type": "code",
   "execution_count": 31,
   "metadata": {
    "execution": {
     "iopub.execute_input": "2025-01-28T10:13:21.851367Z",
     "iopub.status.busy": "2025-01-28T10:13:21.851040Z",
     "iopub.status.idle": "2025-01-28T10:13:21.857526Z",
     "shell.execute_reply": "2025-01-28T10:13:21.856655Z",
     "shell.execute_reply.started": "2025-01-28T10:13:21.851339Z"
    },
    "trusted": true
   },
   "outputs": [],
   "source": [
    "X = data.drop(columns=['charges'],axis = 1)\n",
    "y = data['charges']"
   ]
  },
  {
   "cell_type": "code",
   "execution_count": 32,
   "metadata": {
    "execution": {
     "iopub.execute_input": "2025-01-28T10:13:43.746076Z",
     "iopub.status.busy": "2025-01-28T10:13:43.745759Z",
     "iopub.status.idle": "2025-01-28T10:13:43.760985Z",
     "shell.execute_reply": "2025-01-28T10:13:43.760071Z",
     "shell.execute_reply.started": "2025-01-28T10:13:43.746052Z"
    },
    "trusted": true
   },
   "outputs": [],
   "source": [
    "X = perprocess.fit_transform(X)"
   ]
  },
  {
   "cell_type": "code",
   "execution_count": 33,
   "metadata": {
    "execution": {
     "iopub.execute_input": "2025-01-28T10:14:59.853341Z",
     "iopub.status.busy": "2025-01-28T10:14:59.853037Z",
     "iopub.status.idle": "2025-01-28T10:14:59.858934Z",
     "shell.execute_reply": "2025-01-28T10:14:59.858081Z",
     "shell.execute_reply.started": "2025-01-28T10:14:59.853321Z"
    },
    "trusted": true
   },
   "outputs": [],
   "source": [
    "from sklearn.model_selection import train_test_split\n",
    "X_train,X_test,y_train,y_test = train_test_split(X,y,test_size = 0.2,random_state=12)"
   ]
  },
  {
   "cell_type": "code",
   "execution_count": 34,
   "metadata": {
    "execution": {
     "iopub.execute_input": "2025-01-28T10:54:28.705658Z",
     "iopub.status.busy": "2025-01-28T10:54:28.705322Z",
     "iopub.status.idle": "2025-01-28T10:54:28.744151Z",
     "shell.execute_reply": "2025-01-28T10:54:28.742776Z",
     "shell.execute_reply.started": "2025-01-28T10:54:28.705632Z"
    },
    "trusted": true
   },
   "outputs": [
    {
     "name": "stdout",
     "output_type": "stream",
     "text": [
      "XGBoost R^2 Score: 0.9574575328822394\n"
     ]
    }
   ],
   "source": [
    "from xgboost import XGBRegressor\n",
    "from sklearn.metrics import r2_score,mean_absolute_error\n",
    "xgb = XGBRegressor()\n",
    "xgb.fit(X_train, y_train)\n",
    "xgb_pred = xgb.predict(X_test)\n",
    "\n",
    "print(\"XGBoost R^2 Score:\", r2_score(y_test, xgb_pred))"
   ]
  },
  {
   "cell_type": "code",
   "execution_count": null,
   "metadata": {
    "trusted": true
   },
   "outputs": [],
   "source": []
  },
  {
   "cell_type": "code",
   "execution_count": null,
   "metadata": {},
   "outputs": [],
   "source": []
  }
 ],
 "metadata": {
  "kaggle": {
   "accelerator": "gpu",
   "dataSources": [
    {
     "datasetId": 514919,
     "sourceId": 949070,
     "sourceType": "datasetVersion"
    }
   ],
   "dockerImageVersionId": 30840,
   "isGpuEnabled": true,
   "isInternetEnabled": true,
   "language": "python",
   "sourceType": "notebook"
  },
  "kernelspec": {
   "display_name": "mlproject",
   "language": "python",
   "name": "python3"
  },
  "language_info": {
   "codemirror_mode": {
    "name": "ipython",
    "version": 3
   },
   "file_extension": ".py",
   "mimetype": "text/x-python",
   "name": "python",
   "nbconvert_exporter": "python",
   "pygments_lexer": "ipython3",
   "version": "3.10.0"
  }
 },
 "nbformat": 4,
 "nbformat_minor": 4
}
